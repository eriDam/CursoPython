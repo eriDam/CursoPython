{
 "cells": [
  {
   "cell_type": "markdown",
   "metadata": {},
   "source": [
    "# Tema 10: Métodos de las colecciones (Soluciones)\n",
    "*Nota: Estos ejercicios son optativos para hacer al final de la unidad y están pensados para apoyar tu aprendizaje*."
   ]
  },
  {
   "cell_type": "markdown",
   "metadata": {},
   "source": [
    "**1) Utilizando todo lo que sabes sobre cadenas, listas, sus métodos internos... Transforma este texto:**\n",
    "\n",
    "```\n",
    "un día que el viento soplaba con fuerza#mira como se mueve aquella banderola -dijo un monje#lo que se mueve es el viento -respondió otro monje#ni las banderolas ni el viento, lo que se mueve son vuestras mentes -dijo el maestro\n",
    "```\n",
    "**En este otro:**\n",
    "\n",
    "```\n",
    "Un día que el viento soplaba con fuerza...\n",
    "- Mira como se mueve aquella banderola -dijo un monje.\n",
    "- Lo que se mueve es el viento -respondió otro monje.\n",
    "- Ni las banderolas ni el viento, lo que se mueve son vuestras mentes -dijo el maestro.\n",
    "```\n",
    "**Lo único prohibido es modificar directamente el texto**"
   ]
  },
  {
   "cell_type": "code",
   "execution_count": 3,
   "metadata": {
    "collapsed": false
   },
   "outputs": [
    {
     "name": "stdout",
     "output_type": "stream",
     "text": [
      "Un día que el viento soplaba con fuerza...\n",
      "- Mira como se mueve aquella banderola -dijo un monje.\n",
      "- Lo que se mueve es el viento -respondió otro monje.\n",
      "- Ni las banderolas ni el viento, lo que se mueve son vuestras mentes -dijo el maestro.\n"
     ]
    }
   ],
   "source": [
    "# Completa el ejercicio aquí\n",
    "texto = \"un día que el viento soplaba con fuerza#mira como se mueve aquella banderola -dijo un monje#lo que se mueve es el viento -respondió otro monje#ni las banderolas ni el viento, lo que se mueve son vuestras mentes -dijo el maestro\"\n",
    "\n",
    "lineas = texto.split(\"#\")\n",
    "for i, linea in enumerate(lineas):\n",
    "    lineas[i] = linea.capitalize()\n",
    "    if i == 0:\n",
    "        lineas[i] = lineas[i] + \"...\"\n",
    "    else:\n",
    "        lineas[i] = \"- \" + lineas[i] + \".\"\n",
    "\n",
    "# Mostramos el texto final\n",
    "for linea in lineas:\n",
    "    print(linea)"
   ]
  },
  {
   "cell_type": "markdown",
   "metadata": {},
   "source": [
    "**2) Crea una función modificar() que a partir de una lista de números realice las siguientes tareas sin modificar la original:**\n",
    "\n",
    "* Borrar los elementos duplicados\n",
    "* Ordenar la lista de mayor a menor\n",
    "* Eliminar todos los números impares\n",
    "* Realizar una suma de todos los números que quedan\n",
    "* Añadir como primer elemento de la lista la suma realizada\n",
    "* Devolver la lista modificada\n",
    "* Finalmente, después de ejecutar la función, comprueba que la suma de todos los números a partir del segundo, concuerda con el primer número de la lista, tal que así:\n",
    "```python\n",
    "nueva_lista = modificar(lista)\n",
    "print( nueva_lista[0] == sum(nueva_lista[1:]) )\n",
    "> True\n",
    "```\n",
    "\n",
    "*Nota: La función sum(lista) devuelve una suma de los elementos de una lista*"
   ]
  },
  {
   "cell_type": "markdown",
   "metadata": {},
   "source": [
    "## Solución revisada creando una nueva lista (15/12/2016)"
   ]
  },
  {
   "cell_type": "code",
   "execution_count": 2,
   "metadata": {
    "collapsed": false
   },
   "outputs": [
    {
     "name": "stdout",
     "output_type": "stream",
     "text": [
      "True\n"
     ]
    }
   ],
   "source": [
    "# Completa el ejercicio aquí\n",
    "lista = [29, -5, -12, 17, 5, 24, 5, 12, 23, 16, 12, 5, -12, 17]\n",
    "\n",
    "def modificar(l):\n",
    "  \n",
    "    l = list(set(l))  # Borrar los elementos duplicados (recrea la lista a partir de un nuevo diccionario)\n",
    "    l.sort(reverse=True)  # Ordenar la lista de mayor a menor\n",
    " \n",
    "    l_tmp = []  # Lista temporal que contendrá solo los números pares\n",
    "    for n in l:\n",
    "        if n%2 == 0:\n",
    "            l_tmp.append(n)\n",
    "            \n",
    "    suma = sum(l_tmp)  # Realizar una suma de todos los números que quedan\n",
    "    l_tmp.insert(0, suma)  # Añadir como primer elemento de la lista de pares la suma realizada\n",
    "    return l_tmp  # Devolver la lista de pares modificada\n",
    "\n",
    "\n",
    "nueva_lista = modificar(lista)\n",
    "print( nueva_lista[0] == sum(nueva_lista[1:]) )"
   ]
  },
  {
   "cell_type": "code",
   "execution_count": 1,
   "metadata": {
    "collapsed": false
   },
   "outputs": [
    {
     "name": "stdout",
     "output_type": "stream",
     "text": [
      "True\n",
      "[40, 24, 16, 12, -12]\n"
     ]
    }
   ],
   "source": [
    "#En este ejercicio hay que borrar los elementos impares de una lista, pero en la solución que hice hay un pequeño fallo, y es que no se borran correctamente los impares. Esto sucede porque se recorre la lista de izquierda a derecha y se borran utilizando el índice con del( lista[indice] ), el problema es que si borramos por la izquierda los elementos se van corriendo y la lista se modifica. Para solucionarlo hay que recorrer la lista de derecha a izquierda, aquí dejo la solución con un bucle While y el índice empezando con el valor de la longitud de la lista: \n",
    "\n",
    "# Completa el ejercicio aquí\n",
    "lista = [29, -5, -12, 17, 5, 24, 5, 12, 23, 16, 12, 5, -12, 17]\n",
    " \n",
    " \n",
    "def modificar(l):\n",
    " \n",
    "    # Borrar los elementos duplicados (recrea la lista a partir de un nuevo\n",
    "    # diccionario)\n",
    "    l = list(set(l))\n",
    "    l.sort(reverse=True)  # Ordenar la lista de mayor a menor\n",
    " \n",
    "    # Recorremos desde el final hasta el principio borrando los valores\n",
    "    i = len(l)\n",
    "    while i > 0:\n",
    "        i -= 1\n",
    "        if l[i] % 2 != 0:\n",
    "            del(l[i])\n",
    " \n",
    "    suma = sum(l)  # Realizar una suma de todos los números que quedan\n",
    "    # Añadir como primer elemento de la lista la suma realizada\n",
    "    l.insert(0, suma)\n",
    "    return l  # Devolver la lista modificada\n",
    " \n",
    " \n",
    "nueva_lista = modificar(lista)\n",
    "print(nueva_lista[0] == sum(nueva_lista[1:]))\n",
    "print(nueva_lista)\n",
    "\n"
   ]
  },
  {
   "cell_type": "code",
   "execution_count": 2,
   "metadata": {
    "collapsed": false
   },
   "outputs": [
    {
     "name": "stdout",
     "output_type": "stream",
     "text": [
      "True\n",
      "[40, 24, 16, 12, -12]\n"
     ]
    }
   ],
   "source": [
    "#una vez que he llegado a este punto del curso, ante la solución de este ejercicio, lo que yo he realizado es recorrer una copia de la lista que vamos a modificar, para que en lugar de invertir el orden de iteración del bucle, este se realice mediante su orden natural pero sin modificar la lista con la que el bucle trabaja, evitando así que la lista sea \"modificada al vuelo\", quedaría así:\n",
    "\n",
    "def modificar(l):\n",
    "    # Borra elementos duplicados\n",
    "    l = list(set(l))\n",
    "    \n",
    "    # Ordena la lista de mayor a menor\n",
    "    l.sort(reverse=True)\n",
    "    \n",
    "    # Elimina todos los numeros impares\n",
    "    for v in l[:]:\n",
    "        if v % 2 == 1:\n",
    "            l.remove(v)\n",
    "    \n",
    "    # Realiza una suma de todos los números que quedan\n",
    "    suma = sum(l)\n",
    "    \n",
    "    # Añadir como primer elemento de la lista la suma realizada\n",
    "    l.insert(0, suma)\n",
    "    \n",
    "    return l\n",
    " \n",
    "lista = [29, -5, -12, 17, 5, 24, 5, 12, 23, 16, 12, 5, -12, 17]\n",
    " \n",
    "nueva_lista = modificar(lista)\n",
    "print(nueva_lista[0] == sum(nueva_lista[1:]))\n",
    "print(nueva_lista)"
   ]
  },
  {
   "cell_type": "code",
   "execution_count": 3,
   "metadata": {
    "collapsed": false
   },
   "outputs": [
    {
     "name": "stdout",
     "output_type": "stream",
     "text": [
      "[40, 24, 16, 12, -12]\n",
      "[29, -5, -12, 17, 5, 24, 5, 12, 23, 16, 12, 5, -12, 17]\n",
      "True\n"
     ]
    }
   ],
   "source": [
    "# otra opcion tampoco use del pero en la nueva lista lo que hace es agregar los valores pares,\n",
    "#se hace la suma y se retorna la lista2\n",
    "\n",
    "\n",
    "def modificar(lst):\n",
    "    lista2 = []\n",
    "    lista1 = list(set(lst))\n",
    "    lista1.sort(reverse = True)\n",
    "    for i in range(0,len(lista1)):\n",
    "        if lista1[i] % 2 == 0:\n",
    "            lista2.append(lista1[i])\n",
    "            pass\n",
    "        pass\n",
    "    suma = 0\n",
    "    lista2.insert(0,sum(lista2[0:]))\n",
    "    return lista2\n",
    " \n",
    " \n",
    "lista = [29, -5, -12, 17, 5, 24, 5, 12, 23, 16, 12, 5, -12, 17]\n",
    " \n",
    "nueva_lista = modificar(lista)\n",
    " \n",
    "print(nueva_lista)\n",
    "print(lista)\n",
    "print( nueva_lista[0] == sum(nueva_lista[1:]) ) "
   ]
  },
  {
   "cell_type": "code",
   "execution_count": 4,
   "metadata": {
    "collapsed": false
   },
   "outputs": [
    {
     "name": "stdout",
     "output_type": "stream",
     "text": [
      "[40, 24, 16, 12, -12]\n",
      "True\n"
     ]
    }
   ],
   "source": [
    "# otro ejemplo\n",
    "lista = [29, -5, -12, 17, 5, 24, 5, 12, 23, 16, 12, 5, -12, 17]\n",
    "def modificar(lista):\n",
    "    \n",
    "    nueva_lista = list(set(lista))\n",
    "    nueva_lista.sort(reverse = True)\n",
    "    for elemento in nueva_lista.copy():\n",
    "        if elemento % 2:\n",
    "            nueva_lista.remove(elemento)\n",
    "    nueva_lista.insert(0, sum(nueva_lista))\n",
    "    \n",
    "    return nueva_lista\n",
    " \n",
    "nueva_lista = modificar(lista)    \n",
    "print(nueva_lista)\n",
    "print(nueva_lista[0] == sum(nueva_lista[1:]))"
   ]
  },
  {
   "cell_type": "code",
   "execution_count": null,
   "metadata": {
    "collapsed": true
   },
   "outputs": [],
   "source": []
  }
 ],
 "metadata": {
  "anaconda-cloud": {},
  "kernelspec": {
   "display_name": "Python 3",
   "language": "python",
   "name": "python3"
  },
  "language_info": {
   "codemirror_mode": {
    "name": "ipython",
    "version": 3
   },
   "file_extension": ".py",
   "mimetype": "text/x-python",
   "name": "python",
   "nbconvert_exporter": "python",
   "pygments_lexer": "ipython3",
   "version": "3.6.0"
  }
 },
 "nbformat": 4,
 "nbformat_minor": 0
}
