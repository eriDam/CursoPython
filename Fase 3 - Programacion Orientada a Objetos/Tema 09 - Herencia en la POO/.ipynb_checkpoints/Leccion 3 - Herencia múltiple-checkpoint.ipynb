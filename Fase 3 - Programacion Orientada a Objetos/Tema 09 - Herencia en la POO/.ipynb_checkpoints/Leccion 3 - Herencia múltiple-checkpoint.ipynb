{
 "cells": [
  {
   "cell_type": "markdown",
   "metadata": {
    "collapsed": true
   },
   "source": [
    "# Herencia múltiple\n",
    "Posibilidad de que una subclase herede de múltiples superclases.\n",
    "\n",
    "El problema aparece cuando las superclases tienen atributos o métodos comunes. \n",
    "\n",
    "En estos casos, Python dará prioridad a las clases más a la izquierda en el momento de la declaración de la subclase."
   ]
  },
  {
   "cell_type": "code",
   "execution_count": 10,
   "metadata": {
    "collapsed": false
   },
   "outputs": [
    {
     "name": "stdout",
     "output_type": "stream",
     "text": [
      "Soy de clase A\n",
      "Soy de clase B\n"
     ]
    }
   ],
   "source": [
    "class A:\n",
    "    def __init__(self):\n",
    "        print(\"Soy de clase A\")\n",
    "    def a(self):\n",
    "        print(\"Este método lo heredo de A\")\n",
    "        \n",
    "    \n",
    "class B:\n",
    "    def __init__(self):\n",
    "        print(\"Soy de clase B\")\n",
    "    def b(self):\n",
    "        print(\"Este método lo heredo de B\")\n",
    "    \n",
    "class C(A,B): # prioridad a la hora de hereda de A\n",
    "    def c(self):\n",
    "        print(\"Este método es de C\")\n",
    "\n",
    "class C1(B,A): # prioridad a la hora de hereda de B\n",
    "    pass\n",
    "\n",
    "c  = C()\n",
    "c1 = C1()"
   ]
  },
  {
   "cell_type": "code",
   "execution_count": 12,
   "metadata": {
    "collapsed": false
   },
   "outputs": [
    {
     "name": "stdout",
     "output_type": "stream",
     "text": [
      "Este método lo heredo de A\n",
      "Este método lo heredo de B\n",
      "Este método es de C\n"
     ]
    }
   ],
   "source": [
    "c.a()\n",
    "c.b()\n",
    "c.c()"
   ]
  },
  {
   "cell_type": "code",
   "execution_count": null,
   "metadata": {
    "collapsed": true
   },
   "outputs": [],
   "source": []
  }
 ],
 "metadata": {
  "kernelspec": {
   "display_name": "Python 3",
   "language": "python",
   "name": "python3"
  },
  "language_info": {
   "codemirror_mode": {
    "name": "ipython",
    "version": 3
   },
   "file_extension": ".py",
   "mimetype": "text/x-python",
   "name": "python",
   "nbconvert_exporter": "python",
   "pygments_lexer": "ipython3",
   "version": "3.6.0"
  }
 },
 "nbformat": 4,
 "nbformat_minor": 0
}
