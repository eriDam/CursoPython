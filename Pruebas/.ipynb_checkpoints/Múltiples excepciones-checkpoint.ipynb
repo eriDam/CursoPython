{
 "cells": [
  {
   "cell_type": "code",
   "execution_count": 4,
   "metadata": {
    "collapsed": false
   },
   "outputs": [
    {
     "name": "stdout",
     "output_type": "stream",
     "text": [
      "Introduce un número: 5\n",
      "TypeError\n"
     ]
    }
   ],
   "source": [
    "try:\n",
    "    n = input(\"Introduce un número: \")\n",
    "    5/n\n",
    "except Exception as e:\n",
    "    print( type(e).__name__)\n",
    "    TypeError"
   ]
  },
  {
   "cell_type": "code",
   "execution_count": 10,
   "metadata": {
    "collapsed": false
   },
   "outputs": [
    {
     "name": "stdout",
     "output_type": "stream",
     "text": [
      "Introduce un número: 0\n",
      "No se puede dividir por cero\n"
     ]
    }
   ],
   "source": [
    "try:\n",
    "    n = float(input(\"Introduce un número: \"))\n",
    "    5/n\n",
    "except TypeError:\n",
    "    print(\"No se puede dividir el nº por una cadena\")\n",
    "except ValueError:\n",
    "    print(\"Debes introducir una cadena que sea un número\")\n",
    "except ZeroDivisionError:\n",
    "    print(\"No se puede dividir por cero\")\n",
    "except Exception as e: #El error genérico debe ser el último\n",
    "    print( type(e).__name__)\n",
    "    "
   ]
  },
  {
   "cell_type": "markdown",
   "metadata": {},
   "source": [
    "# Invocación de Excepciones\n"
   ]
  },
  {
   "cell_type": "code",
   "execution_count": 13,
   "metadata": {
    "collapsed": true
   },
   "outputs": [],
   "source": [
    "def mi_funcion(algo=None):\n",
    "    if algo is None:\n",
    "        print (\"Error no se permite un valor nulo\")\n",
    "mi_funcion(\"algo\")"
   ]
  },
  {
   "cell_type": "code",
   "execution_count": 14,
   "metadata": {
    "collapsed": false
   },
   "outputs": [
    {
     "name": "stdout",
     "output_type": "stream",
     "text": [
      "Error no se permite un valor nulo\n"
     ]
    }
   ],
   "source": [
    "mi_funcion()"
   ]
  },
  {
   "cell_type": "code",
   "execution_count": 17,
   "metadata": {
    "collapsed": false
   },
   "outputs": [
    {
     "name": "stdout",
     "output_type": "stream",
     "text": [
      "Error!, No se permite un valor nulo\n"
     ]
    }
   ],
   "source": [
    "def mi_funcion(algo=None):\n",
    "    try:\n",
    "        if algo is None:\n",
    "            raise ValueError (\"Error no se permite un valor nulo\")\n",
    "    except ValueError:\n",
    "        print(\"Error!, No se permite un valor nulo\")\n",
    "mi_funcion()"
   ]
  },
  {
   "cell_type": "raw",
   "metadata": {},
   "source": []
  }
 ],
 "metadata": {
  "kernelspec": {
   "display_name": "Python 3",
   "language": "python",
   "name": "python3"
  },
  "language_info": {
   "codemirror_mode": {
    "name": "ipython",
    "version": 3
   },
   "file_extension": ".py",
   "mimetype": "text/x-python",
   "name": "python",
   "nbconvert_exporter": "python",
   "pygments_lexer": "ipython3",
   "version": "3.6.0"
  }
 },
 "nbformat": 4,
 "nbformat_minor": 2
}
