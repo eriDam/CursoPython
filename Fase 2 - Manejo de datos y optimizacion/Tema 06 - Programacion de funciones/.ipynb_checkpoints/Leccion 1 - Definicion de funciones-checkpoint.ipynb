{
 "cells": [
  {
   "cell_type": "markdown",
   "metadata": {},
   "source": [
    "# Las funciones\n",
    "Son fragmentos de código que se pueden ejecutar múltiples veces. Pueden recibir y devolver información para comunicarse con el proceso principal.\n",
    "\n",
    "### Definición y llamada"
   ]
  },
  {
   "cell_type": "code",
   "execution_count": 4,
   "metadata": {
    "collapsed": false
   },
   "outputs": [
    {
     "name": "stdout",
     "output_type": "stream",
     "text": [
      "Hola ,este print este print se llama desde la función saludar()\n"
     ]
    }
   ],
   "source": [
    "def saludar():\n",
    "    print(\"Hola ,este print este print se llama desde la función saludar()\")\n",
    "    \n",
    "saludar()\n"
   ]
  },
  {
   "cell_type": "markdown",
   "metadata": {},
   "source": [
    "#### Dentro de una función podemos utilizar variables y sentencias de control:"
   ]
  },
  {
   "cell_type": "code",
   "execution_count": 6,
   "metadata": {
    "collapsed": false
   },
   "outputs": [
    {
     "name": "stdout",
     "output_type": "stream",
     "text": [
      "5 * 0 = 0\n",
      "5 * 1 = 5\n",
      "5 * 2 = 10\n",
      "5 * 3 = 15\n",
      "5 * 4 = 20\n",
      "5 * 5 = 25\n",
      "5 * 6 = 30\n",
      "5 * 7 = 35\n",
      "5 * 8 = 40\n",
      "5 * 9 = 45\n"
     ]
    }
   ],
   "source": [
    "def dibujar_tabla_del_5():\n",
    "    for i in range(10):\n",
    "        #print(\"5 *\",i,i*5)\n",
    "        #Utilizamos format\n",
    "        print(\"5 * {} = {}\".format(i,i*5))\n",
    "dibujar_tabla_del_5()"
   ]
  },
  {
   "cell_type": "markdown",
   "metadata": {},
   "source": [
    "### Ámbito de las variables\n",
    "Una variable declarada en una función no existe en la función principal:"
   ]
  },
  {
   "cell_type": "code",
   "execution_count": 9,
   "metadata": {
    "collapsed": true
   },
   "outputs": [],
   "source": [
    "def test():\n",
    "    n = 10\n",
    "test()"
   ]
  },
  {
   "cell_type": "markdown",
   "metadata": {},
   "source": [
    "#### Sin embargo, una variable declarada fuera de la función (al mismo nivel), sí que es accesible desde la función:"
   ]
  },
  {
   "cell_type": "code",
   "execution_count": 12,
   "metadata": {
    "collapsed": false
   },
   "outputs": [
    {
     "name": "stdout",
     "output_type": "stream",
     "text": [
      "10\n",
      "10\n"
     ]
    }
   ],
   "source": [
    "m = 10 \n",
    "def test():\n",
    "    print(m)\n",
    "test()\n",
    "print(m) #podemos usarla sin llamar a la función"
   ]
  },
  {
   "cell_type": "markdown",
   "metadata": {},
   "source": [
    "#### Siempre que declaremos la variable antes de la ejecución, podemos acceder a ella desde dentro:"
   ]
  },
  {
   "cell_type": "code",
   "execution_count": 13,
   "metadata": {
    "collapsed": false
   },
   "outputs": [
    {
     "name": "stdout",
     "output_type": "stream",
     "text": [
      "10\n"
     ]
    }
   ],
   "source": [
    "def test():\n",
    "    print(l)\n",
    "#test()\n",
    "l = 10\n",
    "test()"
   ]
  },
  {
   "cell_type": "markdown",
   "metadata": {},
   "source": [
    "#### En el caso que declaremos de nuevo una variable en la función, se creará un copia de la misma que sólo funcionará dentro de la función. \n",
    "### Por tanto *no podemos modificar una variable externa dentro de una función*:"
   ]
  },
  {
   "cell_type": "code",
   "execution_count": 14,
   "metadata": {
    "collapsed": false
   },
   "outputs": [
    {
     "name": "stdout",
     "output_type": "stream",
     "text": [
      "5\n",
      "5\n",
      "10\n"
     ]
    }
   ],
   "source": [
    "def test():\n",
    "    o = 5 # variable que sólo existe dentro de la función\n",
    "    print(o)\n",
    "test()\n",
    "\n",
    "o=10 # variable externa, no modificable\n",
    "test()\n",
    "print(o)"
   ]
  },
  {
   "cell_type": "markdown",
   "metadata": {},
   "source": [
    "## La instrucción global\n",
    "Para poder modificar una variable externa en la función, debemos indicar que es global de la siguiente forma:"
   ]
  },
  {
   "cell_type": "code",
   "execution_count": 15,
   "metadata": {
    "collapsed": false
   },
   "outputs": [
    {
     "name": "stdout",
     "output_type": "stream",
     "text": [
      "5\n",
      "5\n",
      "5\n"
     ]
    }
   ],
   "source": [
    "def test():\n",
    "    global o # variable que hace referencia a la o externa\n",
    "    o = 5\n",
    "    print(o)\n",
    "test()\n",
    "\n",
    "o=10\n",
    "test()\n",
    "print(o)"
   ]
  },
  {
   "cell_type": "code",
   "execution_count": null,
   "metadata": {
    "collapsed": true
   },
   "outputs": [],
   "source": []
  }
 ],
 "metadata": {
  "kernelspec": {
   "display_name": "Python 3",
   "language": "python",
   "name": "python3"
  },
  "language_info": {
   "codemirror_mode": {
    "name": "ipython",
    "version": 3
   },
   "file_extension": ".py",
   "mimetype": "text/x-python",
   "name": "python",
   "nbconvert_exporter": "python",
   "pygments_lexer": "ipython3",
   "version": "3.6.0"
  }
 },
 "nbformat": 4,
 "nbformat_minor": 0
}
