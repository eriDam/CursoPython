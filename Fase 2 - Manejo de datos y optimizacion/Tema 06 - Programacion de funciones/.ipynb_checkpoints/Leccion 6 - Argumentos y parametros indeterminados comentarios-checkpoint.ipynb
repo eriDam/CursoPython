{
 "cells": [
  {
   "cell_type": "markdown",
   "metadata": {},
   "source": [
    "# Argumentos y parámetros indeterminados\n",
    "Quizá en alguna ocasión no sabemos de antemano cuantos elementos vamos a enviar a una función. En estos casos podemos utilizar los parámetros indeterminados por posición y por nombre.\n",
    "\n",
    "## Por posición\n",
    "Para recibir un número indeterminado de parámetros por posición, debemos crear una lista dinámica de argumentos (una tupla en realidad):"
   ]
  },
  {
   "cell_type": "code",
   "execution_count": 5,
   "metadata": {
    "collapsed": false
   },
   "outputs": [
    {
     "name": "stdout",
     "output_type": "stream",
     "text": [
      "(5, 'Hola', [1, 2, 3, 4, 5])\n"
     ]
    }
   ],
   "source": [
    "#indicar un parametro iterable *args se le suele llamar args x argumentos\n",
    "def indeterminados_posicion(*args): \n",
    "    print(args)\n",
    "    \n",
    "indeterminados_posicion(5,\"Hola\",[1,2,3,4,5])\n",
    "#Al imprimir la lista tenemos una tupla"
   ]
  },
  {
   "cell_type": "code",
   "execution_count": 6,
   "metadata": {
    "collapsed": false
   },
   "outputs": [
    {
     "name": "stdout",
     "output_type": "stream",
     "text": [
      "5\n",
      "Hola\n",
      "[1, 2, 3, 4, 5]\n"
     ]
    }
   ],
   "source": [
    "#podemos recorrer estos argumentos uno a uno con un for\n",
    "def indeterminados_posicion(*args): \n",
    "    for arg in args:\n",
    "        print(arg)\n",
    "    \n",
    "indeterminados_posicion(5,\"Hola\",[1,2,3,4,5])"
   ]
  },
  {
   "cell_type": "markdown",
   "metadata": {},
   "source": [
    "## Por nombre\n",
    "Para recibir un número indeterminado de parámetros por nombre (clave-valor), debemos crear un diccionario dinámico de argumentos:"
   ]
  },
  {
   "cell_type": "code",
   "execution_count": 7,
   "metadata": {
    "collapsed": false
   },
   "outputs": [
    {
     "name": "stdout",
     "output_type": "stream",
     "text": [
      "{'n': 5, 'c': 'Hola', 'l': [1, 2, 3, 4, 5]}\n"
     ]
    }
   ],
   "source": [
    "#Podemos recorrer los argumentos por nombre, gestionanado un diccionario\n",
    "def indeterminados_nombre(**kwargs):#Key Word args\n",
    "    print(kwargs)\n",
    "indeterminados_nombre(n=5,c=\"Hola\",l=[1,2,3,4,5])"
   ]
  },
  {
   "cell_type": "code",
   "execution_count": 8,
   "metadata": {
    "collapsed": false
   },
   "outputs": [
    {
     "name": "stdout",
     "output_type": "stream",
     "text": [
      "n\n",
      "c\n",
      "l\n"
     ]
    }
   ],
   "source": [
    "def indeterminados_nombre(**kwargs):#Key Word args\n",
    "    for kwarg in kwargs:\n",
    "        print(kwarg) #solo mostrará las claves\n",
    "indeterminados_nombre(n=5,c=\"Hola\",l=[1,2,3,4,5])"
   ]
  },
  {
   "cell_type": "code",
   "execution_count": 14,
   "metadata": {
    "collapsed": false
   },
   "outputs": [
    {
     "name": "stdout",
     "output_type": "stream",
     "text": [
      "n   5\n",
      "c   Hola\n",
      "l   [1, 2, 3, 4, 5]\n"
     ]
    }
   ],
   "source": [
    "def indeterminados_nombre(**kwargs):#Key Word args\n",
    "    for kwarg, in kwargs:\n",
    "        print(kwarg,\" \",kwargs[kwarg]) #lepasamos la clave que está guardada en kwarg\n",
    "\n",
    "indeterminados_nombre(n=5,c=\"Hola\",l=[1,2,3,4,5])"
   ]
  },
  {
   "cell_type": "markdown",
   "metadata": {},
   "source": [
    "## Por posición y nombre a la vez\n",
    "Si queremos aceptar ambos tipos de parámetros simultáneamente, entonces debemos crear ambas colecciones dinámicas:"
   ]
  },
  {
   "cell_type": "code",
   "execution_count": 17,
   "metadata": {
    "collapsed": false
   },
   "outputs": [
    {
     "name": "stdout",
     "output_type": "stream",
     "text": [
      "Sumatorio indeterminado es 10\n",
      "nombre   Hector\n",
      "edad   27\n",
      "Sumatorio indeterminado es 60\n",
      "nombre   Hector\n",
      "edad   27\n",
      "Sumatorio indeterminado es 59\n",
      "nombre   Hector\n",
      "edad   27\n",
      "Sumatorio indeterminado es 60.56\n",
      "nombre   Hector\n",
      "edad   27\n",
      "Sumatorio indeterminado es 70.56\n",
      "nombre   Hector\n",
      "edad   27\n",
      "Sumatorio indeterminado es 90.56\n",
      "nombre   Hector\n",
      "edad   27\n",
      "Sumatorio indeterminado es 390.56\n",
      "nombre   Hector\n",
      "edad   27\n"
     ]
    }
   ],
   "source": [
    "#súper función con un poco de todo\n",
    "def super_funcion(*args,**kwargs):\n",
    "    t = 0## Por posición y nombre a la vez\n",
    "Si queremos aceptar ambos tipos de parámetros simultáneamente, entonces debemos crear ambas colecciones dinámicas:\n",
    "    for arg in args:\n",
    "        t+=arg #t+el argumento que es un numero\n",
    "        print(\"Sumatorio indeterminado es\",t)\n",
    "        for kwarg in kwargs:\n",
    "            print(kwarg, \" \", kwargs[kwarg])\n",
    "            \n",
    "super_funcion(10,50,-1,1.56,10,20,300,nombre=\"Hector\",edad=27) #le paso un número indeterminado de argumentos, tantos como quiera\n"
   ]
  },
  {
   "cell_type": "code",
   "execution_count": null,
   "metadata": {
    "collapsed": true
   },
   "outputs": [],
   "source": []
  }
 ],
 "metadata": {
  "kernelspec": {
   "display_name": "Python 3",
   "language": "python",
   "name": "python3"
  },
  "language_info": {
   "codemirror_mode": {
    "name": "ipython",
    "version": 3
   },
   "file_extension": ".py",
   "mimetype": "text/x-python",
   "name": "python",
   "nbconvert_exporter": "python",
   "pygments_lexer": "ipython3",
   "version": "3.6.0"
  }
 },
 "nbformat": 4,
 "nbformat_minor": 2
}
