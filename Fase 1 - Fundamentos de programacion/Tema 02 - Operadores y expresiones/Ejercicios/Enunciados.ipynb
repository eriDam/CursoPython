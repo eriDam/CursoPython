{
 "cells": [
  {
   "cell_type": "markdown",
   "metadata": {},
   "source": [
    "# Tema 02: Operadores y expresiones (Enunciados)\n",
    "*Nota: Estos ejercicios son optativos para hacer al final de la unidad y están pensados para apoyar tu aprendizaje*."
   ]
  },
  {
   "cell_type": "markdown",
   "metadata": {},
   "source": [
    "**1) Realiza un programa que lea 2 números por teclado y determine los siguientes aspectos (es suficiene con mostrar True o False):**\n",
    "* Si los dos números son iguales\n",
    "* Si los dos números son diferentes\n",
    "* Si el primero es mayor que el segundo\n",
    "* Si el segundo es mayor o igual que el primero"
   ]
  },
  {
   "cell_type": "code",
   "execution_count": 2,
   "metadata": {
    "collapsed": false,
    "scrolled": false
   },
   "outputs": [
    {
     "name": "stdout",
     "output_type": "stream",
     "text": [
      "Introduce el primer número: 20\n",
      "Introduce el segundo número: 15\n",
      "¿Son iguales?  False\n",
      "¿Son diferentes? True\n",
      "¿El primero es mayor que el segundo? True\n",
      "¿El segundo es mayor o igual que el primero? False\n"
     ]
    }
   ],
   "source": [
    "# Completa el ejercicio aquí\n",
    "n1 =  float(input(\"Introduce el primer número: \")) \n",
    "n2 =  float(input(\"Introduce el segundo número: \")) \n",
    "\n",
    "print(\"¿Son iguales? \", n1 == n2)\n",
    "print(\"¿Son diferentes?\", n1 != n2)\n",
    "print(\"¿El primero es mayor que el segundo?\", n1 > n2)\n",
    "print(\"¿El segundo es mayor o igual que el primero?\", n1 <= n2)\n",
    "\n",
    "    \n",
    " \n",
    "\n",
    "\n"
   ]
  },
  {
   "cell_type": "markdown",
   "metadata": {},
   "source": [
    "**2) Utilizando operadores lógicos, determina si una cadena de texto introducida por el usuario tiene una longitud mayor o igual que 3 y a su vez es menor que 10 (es suficiene con mostrar True o False):**"
   ]
  },
  {
   "cell_type": "code",
   "execution_count": 18,
   "metadata": {
    "collapsed": false
   },
   "outputs": [
    {
     "name": "stdout",
     "output_type": "stream",
     "text": [
      "Introduce aquí tu texto corto: holaaaa\n",
      "¿La longitud de la cadena es mayor o igual que 3 y menor que 10? True\n",
      "¿La longitud de la cadena es mayor o igual que 3 y menor que 10? True\n"
     ]
    }
   ],
   "source": [
    "# Completa el ejercicio aquí\n",
    "cadena =  input(\"Introduce aquí tu texto corto: \") \n",
    "condiciones = len(cadena) >=  3 and len(cadena) < 10\n",
    "print(\"¿La longitud de la cadena es mayor o igual que 3 y menor que 10?\", len(cadena) >= 3 and len(cadena) < 10 )\n",
    "print(\"¿La longitud de la cadena es mayor o igual que 3 y menor que 10?\", condiciones) \n"
   ]
  },
  {
   "cell_type": "markdown",
   "metadata": {},
   "source": [
    "**3) Realiza un programa que cumpla el siguiente algoritmo utilizando siempre que sea posible operadores en asignación:**\n",
    "* Guarda en una variable numero_magico el valor 12345679 (sin el 8)\n",
    "* Lee por pantalla otro numero_usuario, especifica que sea entre 1 y 9 (asegúrate que es un número)\n",
    "* Multiplica el numero_usuario por 9 en sí mismo\n",
    "* Multiplica el numero_magico por el numero_usuario en sí mismo\n",
    "* Finalmente muestra el valor final del numero_magico por pantalla\n"
   ]
  },
  {
   "cell_type": "code",
   "execution_count": 23,
   "metadata": {
    "collapsed": false
   },
   "outputs": [
    {
     "name": "stdout",
     "output_type": "stream",
     "text": [
      "Escribe un número del 1 al 9: 1\n",
      "El número mágico es: 111111111\n"
     ]
    }
   ],
   "source": [
    "# Completa el ejercicio aquí\n",
    "numero_magico = 12345679\n",
    "numero_usuario = int(input(\"Escribe un número del 1 al 9: \"))\n",
    "#condicion = numero_usuario >= 1 and numero_usuario <=9\n",
    "numero_usuario *= 9\n",
    "numero_magico *= numero_usuario\n",
    "print(\"El número mágico es:\", numero_magico)\n",
    " "
   ]
  },
  {
   "cell_type": "code",
   "execution_count": null,
   "metadata": {
    "collapsed": true
   },
   "outputs": [],
   "source": []
  },
  {
   "cell_type": "code",
   "execution_count": null,
   "metadata": {
    "collapsed": true
   },
   "outputs": [],
   "source": []
  }
 ],
 "metadata": {
  "anaconda-cloud": {},
  "kernelspec": {
   "display_name": "Python 3",
   "language": "python",
   "name": "python3"
  },
  "language_info": {
   "codemirror_mode": {
    "name": "ipython",
    "version": 3
   },
   "file_extension": ".py",
   "mimetype": "text/x-python",
   "name": "python",
   "nbconvert_exporter": "python",
   "pygments_lexer": "ipython3",
   "version": "3.6.0"
  }
 },
 "nbformat": 4,
 "nbformat_minor": 0
}
